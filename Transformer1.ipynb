{
 "cells": [
  {
   "cell_type": "code",
   "execution_count": 14,
   "metadata": {},
   "outputs": [
    {
     "name": "stdout",
     "output_type": "stream",
     "text": [
      "(1, 4876)\n",
      "1242.7740478515625\n"
     ]
    }
   ],
   "source": [
    "#Carguemos los datos\n",
    "import pandas as pd\n",
    "ShanghaiDat=pd.read_csv('Shanghai-2005-2025.csv')\n",
    "\n",
    "print(ShanghaiDat.shape)\n",
    "print(ShanghaiDat.iloc[0,1])"
   ]
  }
 ],
 "metadata": {
  "kernelspec": {
   "display_name": "Python 3",
   "language": "python",
   "name": "python3"
  },
  "language_info": {
   "codemirror_mode": {
    "name": "ipython",
    "version": 3
   },
   "file_extension": ".py",
   "mimetype": "text/x-python",
   "name": "python",
   "nbconvert_exporter": "python",
   "pygments_lexer": "ipython3",
   "version": "3.11.9"
  }
 },
 "nbformat": 4,
 "nbformat_minor": 2
}
