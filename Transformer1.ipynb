{
 "cells": [
  {
   "cell_type": "code",
   "execution_count": 112,
   "metadata": {},
   "outputs": [
    {
     "name": "stdout",
     "output_type": "stream",
     "text": [
      "Dimension del dataframe: (1, 4875)\n",
      "Primer elemento del dataframe: 1242.7740478515625\n"
     ]
    }
   ],
   "source": [
    "#Carguemos los datos\n",
    "import pandas as pd\n",
    "ShanghaiDat=pd.read_csv('Shanghai-2005-2025.csv')\n",
    "ShanghaiDat=ShanghaiDat.drop(ShanghaiDat.columns[0], axis=1) #Eliminar la primera columna que tiene la etiqueta\n",
    "\n",
    "print('Dimension del dataframe:',ShanghaiDat.shape)\n",
    "print('Primer elemento del dataframe:',ShanghaiDat.iloc[0,0])"
   ]
  },
  {
   "cell_type": "code",
   "execution_count": 113,
   "metadata": {},
   "outputs": [
    {
     "name": "stdout",
     "output_type": "stream",
     "text": [
      "Shape de Shanghai_epocas: (4860, 15)\n",
      "Shape de Shanghai_targets: (4860,)\n"
     ]
    }
   ],
   "source": [
    "#Nos saltamos la parte del codigo que genera datos porque nosotros ya tenemos datos reales\n",
    "#Debemos convertir nuestros datos en una ventana de datos deslizantes. Esto es, obtener una matriz dividiendo los datos en epocas de 15 dias y obtener los target para cada una de esas epocas\n",
    "import numpy as np\n",
    "\n",
    "# Convertimos los datos a un array de 1 dimension\n",
    "ShanghaiDat = np.array(ShanghaiDat).flatten()\n",
    "\n",
    "#Dividimos en epocas de 15 dias\n",
    "def Epocas(sequence_length=15):\n",
    "    size = len(ShanghaiDat) #Es multiplo de 15\n",
    "    sequences = [ShanghaiDat[i:i+sequence_length] for i in range(size-sequence_length)]\n",
    "    next_points = ShanghaiDat[sequence_length:]\n",
    "\n",
    "    # Convertir a NumPy arrays correctamente\n",
    "    return np.array(sequences), np.array(next_points)\n",
    "\n",
    "Shanghai_epocas, Shanghai_targets = Epocas()\n",
    "\n",
    "print('Shape de Shanghai_epocas:', Shanghai_epocas.shape)\n",
    "print('Shape de Shanghai_targets:', Shanghai_targets.shape)\n",
    "\n",
    "#Ahora tenemos 4860 epocas de 15 dias en una variable, y en la otra varibale todos los targets de cada epoca. Es importante señalar que ninguna epoca puede contener a su target\n",
    "#Es por ello que en la ultima epoca solo se llega al penultimo valor"
   ]
  },
  {
   "cell_type": "code",
   "execution_count": 114,
   "metadata": {},
   "outputs": [],
   "source": [
    "#Despues necesitamos definir una clase que permita tratar los datos para poder usar DataLoader de pytorch.\n",
    "#Terminamos de cargar todas las librerias que vamos a usar\n",
    "import torch\n",
    "import torch.nn as nn\n",
    "from torch.utils.data import Dataset, DataLoader\n",
    "\n",
    "class TimeSeriesDataset(Dataset): #Heredamos caracteristicas de Dataset\n",
    "    def __init__(self, sequences, next_points): #Determina que parametros debemos pasar la crear una instancia\n",
    "        self.sequences = sequences\n",
    "        self.next_points = next_points\n",
    "\n",
    "    def __len__(self): #Nos dice la longitud de nuestros datos de secuancia\n",
    "        return len(self.sequences)\n",
    "\n",
    "    def __getitem__(self, idx): #Nos da cualquier epoca que queramos y su targeta asociado\n",
    "        return self.sequences[idx], self.next_points[idx]"
   ]
  },
  {
   "cell_type": "code",
   "execution_count": null,
   "metadata": {},
   "outputs": [
    {
     "name": "stdout",
     "output_type": "stream",
     "text": [
      "4860\n"
     ]
    },
    {
     "data": {
      "text/plain": [
       "(array([3211.39306641, 3168.52392578, 3160.75488281, 3240.93994141,\n",
       "        3227.11694336, 3236.03198242, 3241.82104492, 3244.37792969,\n",
       "        3242.62304688, 3213.62402344, 3230.1640625 , 3252.62597656,\n",
       "        3250.60107422, 3229.48803711, 3270.65893555]),\n",
       " np.float64(3303.6669921875))"
      ]
     },
     "execution_count": 115,
     "metadata": {},
     "output_type": "execute_result"
    }
   ],
   "source": [
    "#Probamos crear una instancia con nuestros datos\n",
    "Datos=TimeSeriesDataset(Shanghai_epocas, Shanghai_targets)\n",
    "print(len(Datos))\n",
    "Datos[-1]"
   ]
  },
  {
   "cell_type": "code",
   "execution_count": 116,
   "metadata": {},
   "outputs": [],
   "source": [
    "# Transformer Model (simplified for numerical data)\n",
    "class TransformerModel(nn.Module):\n",
    "    def __init__(self, input_size=1, sequence_length=10, num_layers=1, \\\n",
    "                 num_heads=2, dim_feedforward=512):\n",
    "        super(TransformerModel, self).__init__()\n",
    "        self.sequence_length = sequence_length\n",
    "        self.encoder_layer = nn.TransformerEncoderLayer(d_model=input_size*sequence_length,\n",
    "                           nhead=num_heads,\n",
    "                           dim_feedforward=dim_feedforward)\n",
    "        self.transformer_encoder = nn.TransformerEncoder(self.encoder_layer,\n",
    "                      num_layers=num_layers)\n",
    "        self.fc_out = nn.Linear(input_size * sequence_length, 1)\n",
    "\n",
    "    def forward(self, src):\n",
    "        # Reshape to match the input dimensions\n",
    "        src = src.reshape(-1, self.sequence_length, 1)  \n",
    "        src = src.flatten(start_dim=1)\n",
    "        src = src.unsqueeze(0)  # Add batch dimension\n",
    "        out = self.transformer_encoder(src)\n",
    "        out = out.squeeze(0)  # Remove batch dimension\n",
    "        return self.fc_out(out)"
   ]
  }
 ],
 "metadata": {
  "kernelspec": {
   "display_name": "Python 3",
   "language": "python",
   "name": "python3"
  },
  "language_info": {
   "codemirror_mode": {
    "name": "ipython",
    "version": 3
   },
   "file_extension": ".py",
   "mimetype": "text/x-python",
   "name": "python",
   "nbconvert_exporter": "python",
   "pygments_lexer": "ipython3",
   "version": "3.11.9"
  }
 },
 "nbformat": 4,
 "nbformat_minor": 2
}
