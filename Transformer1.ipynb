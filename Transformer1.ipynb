{
 "cells": [
  {
   "cell_type": "code",
   "execution_count": 41,
   "metadata": {},
   "outputs": [
    {
     "name": "stdout",
     "output_type": "stream",
     "text": [
      "(1, 4875)\n",
      "1242.7740478515625\n",
      "<class 'pandas.core.frame.DataFrame'>\n"
     ]
    }
   ],
   "source": [
    "#Carguemos los datos\n",
    "import pandas as pd\n",
    "ShanghaiDat=pd.read_csv('Shanghai-2005-2025.csv')\n",
    "ShanghaiDat=ShanghaiDat.drop(ShanghaiDat.columns[0], axis=1) #Eliminar la primera columna que tiene la etiqueta\n",
    "\n",
    "print(ShanghaiDat.shape)\n",
    "print(ShanghaiDat.iloc[0,0])\n",
    "print(type(ShanghaiDat))"
   ]
  },
  {
   "cell_type": "code",
   "execution_count": 43,
   "metadata": {},
   "outputs": [
    {
     "ename": "ValueError",
     "evalue": "setting an array element with a sequence. The requested array has an inhomogeneous shape after 1 dimensions. The detected shape was (4860,) + inhomogeneous part.",
     "output_type": "error",
     "traceback": [
      "\u001b[31m---------------------------------------------------------------------------\u001b[39m",
      "\u001b[31mValueError\u001b[39m                                Traceback (most recent call last)",
      "\u001b[36mCell\u001b[39m\u001b[36m \u001b[39m\u001b[32mIn[43]\u001b[39m\u001b[32m, line 10\u001b[39m\n\u001b[32m      7\u001b[39m     next_points = ShanghaiDat[sequence_length:]\n\u001b[32m      8\u001b[39m     \u001b[38;5;28;01mreturn\u001b[39;00m np.array(sequences), next_points\n\u001b[32m---> \u001b[39m\u001b[32m10\u001b[39m Shanghai_epocas, Shanhai_targets=\u001b[43mEpocas\u001b[49m\u001b[43m(\u001b[49m\u001b[43m)\u001b[49m\n",
      "\u001b[36mCell\u001b[39m\u001b[36m \u001b[39m\u001b[32mIn[43]\u001b[39m\u001b[32m, line 8\u001b[39m, in \u001b[36mEpocas\u001b[39m\u001b[34m(size, sequence_length)\u001b[39m\n\u001b[32m      6\u001b[39m sequences = [ShanghaiDat[i:i+sequence_length] \u001b[38;5;28;01mfor\u001b[39;00m i \u001b[38;5;129;01min\u001b[39;00m \u001b[38;5;28mrange\u001b[39m(size-sequence_length)]\n\u001b[32m      7\u001b[39m next_points = ShanghaiDat[sequence_length:]\n\u001b[32m----> \u001b[39m\u001b[32m8\u001b[39m \u001b[38;5;28;01mreturn\u001b[39;00m \u001b[43mnp\u001b[49m\u001b[43m.\u001b[49m\u001b[43marray\u001b[49m\u001b[43m(\u001b[49m\u001b[43msequences\u001b[49m\u001b[43m)\u001b[49m, next_points\n",
      "\u001b[31mValueError\u001b[39m: setting an array element with a sequence. The requested array has an inhomogeneous shape after 1 dimensions. The detected shape was (4860,) + inhomogeneous part."
     ]
    }
   ],
   "source": [
    "#Nos saltamos la parte del codigo que genera datos porque nosotros ya tenemos datos reales\n",
    "#Debemos convertir nuestros datos en una ventana de datos deslizantes. Esto es, obtener una matriz dividiendo los datos en epocas de 15 dias y obtener los target para cada una de esas epocas\n",
    "import numpy as np\n",
    "\n",
    "def Epocas(size=4875, sequence_length=15):\n",
    "    sequences = [ShanghaiDat[i:i+sequence_length] for i in range(size-sequence_length)]\n",
    "    next_points = ShanghaiDat[sequence_length:]\n",
    "    return np.array(sequences), next_points\n",
    "\n",
    "Shanghai_epocas, Shanhai_targets=Epocas()"
   ]
  }
 ],
 "metadata": {
  "kernelspec": {
   "display_name": "Python 3",
   "language": "python",
   "name": "python3"
  },
  "language_info": {
   "codemirror_mode": {
    "name": "ipython",
    "version": 3
   },
   "file_extension": ".py",
   "mimetype": "text/x-python",
   "name": "python",
   "nbconvert_exporter": "python",
   "pygments_lexer": "ipython3",
   "version": "3.11.9"
  }
 },
 "nbformat": 4,
 "nbformat_minor": 2
}
